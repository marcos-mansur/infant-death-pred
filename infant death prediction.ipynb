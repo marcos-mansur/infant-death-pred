{
 "cells": [
  {
   "attachments": {},
   "cell_type": "markdown",
   "metadata": {},
   "source": [
    "# Metodologia \n",
    "\n",
    "1. Entender / Definir: O que queremos resolver?\n",
    "    - Prever número de óbtos infantis em um país com base em indicadores de saúde daquele ano.\n",
    "2. Quais dados estão disponíveis que possivelmente tem poder preditivo sobre o evento que se quer modelar (target)?\n",
    "    - Aqui trabalharemos com dataset [Life Expecxtancy Data do Kaggle](https://www.kaggle.com/datasets/maryalebron/life-expectancy-data?resource=download) e avaliar os dados melhores.\n",
    "3. Fazer análise exploratória dos dados\n",
    "4. Dividir os dados em treino e teste \n",
    "5. Tratar os dados\n",
    "6. Treinar o modelo\n",
    "7. Fazer previsões \n",
    "8. Avaliar a performance\n",
    "\n",
    "Após avaliar a performance volta-se no passo 5 e aplica-se diferentes tratamentos de dados e hyperparametros no modelo."
   ]
  },
  {
   "attachments": {},
   "cell_type": "markdown",
   "metadata": {},
   "source": [
    "# Carrega Pacotes"
   ]
  },
  {
   "cell_type": "code",
   "execution_count": 1,
   "metadata": {},
   "outputs": [],
   "source": [
    "# instala os pacotes no computador\n",
    "# !pip install pandas\n",
    "# !pip install matplotlib\n",
    "\n",
    "# importa os pacotes para usar nesse notebook\n",
    "import pandas as pd\n",
    "import matplotlib.pyplot as plt"
   ]
  },
  {
   "attachments": {},
   "cell_type": "markdown",
   "metadata": {},
   "source": [
    "# Carrega os dados"
   ]
  },
  {
   "cell_type": "code",
   "execution_count": 2,
   "metadata": {},
   "outputs": [],
   "source": [
    "df1 = pd.read_csv('Life Expectancy Data v2.csv')\n",
    "df = df1.copy()"
   ]
  },
  {
   "attachments": {},
   "cell_type": "markdown",
   "metadata": {},
   "source": [
    "# 3. Análise exploratória dos dados"
   ]
  },
  {
   "attachments": {},
   "cell_type": "markdown",
   "metadata": {},
   "source": [
    "Primeiramente, olhamos para a \"cara\" do dataset. Quais colunas temos, quais informações elas trazem."
   ]
  },
  {
   "cell_type": "code",
   "execution_count": 3,
   "metadata": {},
   "outputs": [
    {
     "data": {
      "text/html": [
       "<div>\n",
       "<style scoped>\n",
       "    .dataframe tbody tr th:only-of-type {\n",
       "        vertical-align: middle;\n",
       "    }\n",
       "\n",
       "    .dataframe tbody tr th {\n",
       "        vertical-align: top;\n",
       "    }\n",
       "\n",
       "    .dataframe thead th {\n",
       "        text-align: right;\n",
       "    }\n",
       "</style>\n",
       "<table border=\"1\" class=\"dataframe\">\n",
       "  <thead>\n",
       "    <tr style=\"text-align: right;\">\n",
       "      <th></th>\n",
       "      <th>Country</th>\n",
       "      <th>Year</th>\n",
       "      <th>Status</th>\n",
       "      <th>Life expectancy (men)</th>\n",
       "      <th>Life expectancy(women)</th>\n",
       "      <th>Adult Mortality (men)</th>\n",
       "      <th>Adult Mortality (women)</th>\n",
       "      <th>Infant deaths</th>\n",
       "      <th>Alcohol</th>\n",
       "      <th>Percentage expenditure</th>\n",
       "      <th>...</th>\n",
       "      <th>Polio</th>\n",
       "      <th>Total expenditure</th>\n",
       "      <th>Diphtheria</th>\n",
       "      <th>HIV/AIDS</th>\n",
       "      <th>GDP</th>\n",
       "      <th>Population</th>\n",
       "      <th>thinness  1-19 years</th>\n",
       "      <th>thinness 5-9 years</th>\n",
       "      <th>Income composition of resources</th>\n",
       "      <th>Schooling</th>\n",
       "    </tr>\n",
       "  </thead>\n",
       "  <tbody>\n",
       "    <tr>\n",
       "      <th>0</th>\n",
       "      <td>Afghanistan</td>\n",
       "      <td>2015</td>\n",
       "      <td>Developing</td>\n",
       "      <td>70</td>\n",
       "      <td>66</td>\n",
       "      <td>67</td>\n",
       "      <td>65</td>\n",
       "      <td>62</td>\n",
       "      <td>0.01</td>\n",
       "      <td>71.279624</td>\n",
       "      <td>...</td>\n",
       "      <td>6.0</td>\n",
       "      <td>8.16</td>\n",
       "      <td>65.0</td>\n",
       "      <td>0.1</td>\n",
       "      <td>584.259210</td>\n",
       "      <td>33736494.0</td>\n",
       "      <td>17.2</td>\n",
       "      <td>17.3</td>\n",
       "      <td>0.479</td>\n",
       "      <td>10.1</td>\n",
       "    </tr>\n",
       "    <tr>\n",
       "      <th>1</th>\n",
       "      <td>Afghanistan</td>\n",
       "      <td>2014</td>\n",
       "      <td>Developing</td>\n",
       "      <td>59</td>\n",
       "      <td>67</td>\n",
       "      <td>73</td>\n",
       "      <td>85</td>\n",
       "      <td>64</td>\n",
       "      <td>0.01</td>\n",
       "      <td>73.523582</td>\n",
       "      <td>...</td>\n",
       "      <td>58.0</td>\n",
       "      <td>8.18</td>\n",
       "      <td>62.0</td>\n",
       "      <td>0.1</td>\n",
       "      <td>612.696514</td>\n",
       "      <td>327582.0</td>\n",
       "      <td>17.5</td>\n",
       "      <td>17.5</td>\n",
       "      <td>0.476</td>\n",
       "      <td>10.0</td>\n",
       "    </tr>\n",
       "    <tr>\n",
       "      <th>2</th>\n",
       "      <td>Afghanistan</td>\n",
       "      <td>2013</td>\n",
       "      <td>Developing</td>\n",
       "      <td>79</td>\n",
       "      <td>51</td>\n",
       "      <td>87</td>\n",
       "      <td>67</td>\n",
       "      <td>66</td>\n",
       "      <td>0.01</td>\n",
       "      <td>73.219243</td>\n",
       "      <td>...</td>\n",
       "      <td>62.0</td>\n",
       "      <td>8.13</td>\n",
       "      <td>64.0</td>\n",
       "      <td>0.1</td>\n",
       "      <td>631.744976</td>\n",
       "      <td>31731688.0</td>\n",
       "      <td>17.7</td>\n",
       "      <td>17.7</td>\n",
       "      <td>0.470</td>\n",
       "      <td>9.9</td>\n",
       "    </tr>\n",
       "    <tr>\n",
       "      <th>3</th>\n",
       "      <td>Afghanistan</td>\n",
       "      <td>2012</td>\n",
       "      <td>Developing</td>\n",
       "      <td>65</td>\n",
       "      <td>81</td>\n",
       "      <td>63</td>\n",
       "      <td>91</td>\n",
       "      <td>69</td>\n",
       "      <td>0.01</td>\n",
       "      <td>78.184215</td>\n",
       "      <td>...</td>\n",
       "      <td>67.0</td>\n",
       "      <td>8.52</td>\n",
       "      <td>67.0</td>\n",
       "      <td>0.1</td>\n",
       "      <td>669.959000</td>\n",
       "      <td>3696958.0</td>\n",
       "      <td>17.9</td>\n",
       "      <td>18.0</td>\n",
       "      <td>0.463</td>\n",
       "      <td>9.8</td>\n",
       "    </tr>\n",
       "    <tr>\n",
       "      <th>4</th>\n",
       "      <td>Afghanistan</td>\n",
       "      <td>2011</td>\n",
       "      <td>Developing</td>\n",
       "      <td>76</td>\n",
       "      <td>75</td>\n",
       "      <td>57</td>\n",
       "      <td>72</td>\n",
       "      <td>71</td>\n",
       "      <td>0.01</td>\n",
       "      <td>7.097109</td>\n",
       "      <td>...</td>\n",
       "      <td>68.0</td>\n",
       "      <td>7.87</td>\n",
       "      <td>68.0</td>\n",
       "      <td>0.1</td>\n",
       "      <td>63.537231</td>\n",
       "      <td>2978599.0</td>\n",
       "      <td>18.2</td>\n",
       "      <td>18.2</td>\n",
       "      <td>0.454</td>\n",
       "      <td>9.5</td>\n",
       "    </tr>\n",
       "  </tbody>\n",
       "</table>\n",
       "<p>5 rows × 25 columns</p>\n",
       "</div>"
      ],
      "text/plain": [
       "       Country  Year      Status  Life expectancy (men)  \\\n",
       "0  Afghanistan  2015  Developing                     70   \n",
       "1  Afghanistan  2014  Developing                     59   \n",
       "2  Afghanistan  2013  Developing                     79   \n",
       "3  Afghanistan  2012  Developing                     65   \n",
       "4  Afghanistan  2011  Developing                     76   \n",
       "\n",
       "   Life expectancy(women)  Adult Mortality (men)  Adult Mortality (women)  \\\n",
       "0                      66                     67                       65   \n",
       "1                      67                     73                       85   \n",
       "2                      51                     87                       67   \n",
       "3                      81                     63                       91   \n",
       "4                      75                     57                       72   \n",
       "\n",
       "   Infant deaths  Alcohol  Percentage expenditure  ...  Polio  \\\n",
       "0             62     0.01               71.279624  ...    6.0   \n",
       "1             64     0.01               73.523582  ...   58.0   \n",
       "2             66     0.01               73.219243  ...   62.0   \n",
       "3             69     0.01               78.184215  ...   67.0   \n",
       "4             71     0.01                7.097109  ...   68.0   \n",
       "\n",
       "   Total expenditure  Diphtheria   HIV/AIDS         GDP  Population  \\\n",
       "0               8.16         65.0       0.1  584.259210  33736494.0   \n",
       "1               8.18         62.0       0.1  612.696514    327582.0   \n",
       "2               8.13         64.0       0.1  631.744976  31731688.0   \n",
       "3               8.52         67.0       0.1  669.959000   3696958.0   \n",
       "4               7.87         68.0       0.1   63.537231   2978599.0   \n",
       "\n",
       "   thinness  1-19 years  thinness 5-9 years  Income composition of resources  \\\n",
       "0                  17.2                17.3                            0.479   \n",
       "1                  17.5                17.5                            0.476   \n",
       "2                  17.7                17.7                            0.470   \n",
       "3                  17.9                18.0                            0.463   \n",
       "4                  18.2                18.2                            0.454   \n",
       "\n",
       "   Schooling  \n",
       "0       10.1  \n",
       "1       10.0  \n",
       "2        9.9  \n",
       "3        9.8  \n",
       "4        9.5  \n",
       "\n",
       "[5 rows x 25 columns]"
      ]
     },
     "execution_count": 3,
     "metadata": {},
     "output_type": "execute_result"
    }
   ],
   "source": [
    "df.head()"
   ]
  },
  {
   "cell_type": "code",
   "execution_count": 4,
   "metadata": {},
   "outputs": [
    {
     "name": "stdout",
     "output_type": "stream",
     "text": [
      "<class 'pandas.core.frame.DataFrame'>\n",
      "RangeIndex: 2938 entries, 0 to 2937\n",
      "Data columns (total 25 columns):\n",
      " #   Column                           Non-Null Count  Dtype  \n",
      "---  ------                           --------------  -----  \n",
      " 0   Country                          2938 non-null   object \n",
      " 1   Year                             2938 non-null   int64  \n",
      " 2   Status                           2938 non-null   object \n",
      " 3   Life expectancy (men)            2938 non-null   int64  \n",
      " 4   Life expectancy(women)           2938 non-null   int64  \n",
      " 5   Adult Mortality (men)            2938 non-null   int64  \n",
      " 6   Adult Mortality (women)          2938 non-null   int64  \n",
      " 7   Infant deaths                    2938 non-null   int64  \n",
      " 8   Alcohol                          2744 non-null   float64\n",
      " 9   Percentage expenditure           2938 non-null   float64\n",
      " 10  Hepatitis B(men)                 2938 non-null   int64  \n",
      " 11  Hepatitis B(women)               2938 non-null   int64  \n",
      " 12  Measles                          2938 non-null   int64  \n",
      " 13  BMI                              2904 non-null   float64\n",
      " 14  Under-five deaths                2938 non-null   int64  \n",
      " 15  Polio                            2919 non-null   float64\n",
      " 16  Total expenditure                2712 non-null   float64\n",
      " 17  Diphtheria                       2919 non-null   float64\n",
      " 18  HIV/AIDS                         2938 non-null   float64\n",
      " 19  GDP                              2490 non-null   float64\n",
      " 20  Population                       2286 non-null   float64\n",
      " 21  thinness  1-19 years             2904 non-null   float64\n",
      " 22  thinness 5-9 years               2904 non-null   float64\n",
      " 23  Income composition of resources  2771 non-null   float64\n",
      " 24  Schooling                        2775 non-null   float64\n",
      "dtypes: float64(13), int64(10), object(2)\n",
      "memory usage: 574.0+ KB\n"
     ]
    }
   ],
   "source": [
    "df.info()"
   ]
  },
  {
   "attachments": {},
   "cell_type": "markdown",
   "metadata": {},
   "source": [
    "Todas as colunas são numéricas com execeção de \"Status\" e \"Country\". Não usaremos a informação de país e transformaremos a variável Status em um binário, sendo 1 para \"Developed\" e 0 para \"Developing\"."
   ]
  },
  {
   "cell_type": "code",
   "execution_count": 5,
   "metadata": {},
   "outputs": [],
   "source": [
    "df.Status = df1.Status.map({'Developing': 0, \"Developed\": 1})\n",
    "df.drop(columns=['Country'], inplace=True, errors='ignore')"
   ]
  },
  {
   "cell_type": "code",
   "execution_count": 6,
   "metadata": {},
   "outputs": [
    {
     "data": {
      "text/plain": [
       "24"
      ]
     },
     "execution_count": 6,
     "metadata": {},
     "output_type": "execute_result"
    }
   ],
   "source": [
    "df.columns.nunique()"
   ]
  },
  {
   "attachments": {},
   "cell_type": "markdown",
   "metadata": {},
   "source": [
    "Agora temos 24 colunas no dataset, todas numéricas."
   ]
  },
  {
   "cell_type": "code",
   "execution_count": 7,
   "metadata": {},
   "outputs": [
    {
     "data": {
      "text/plain": [
       "Index(['Year', 'Status', 'Life expectancy (men)', 'Life expectancy(women)',\n",
       "       'Adult Mortality (men)', 'Adult Mortality (women)', 'Infant deaths',\n",
       "       'Alcohol', 'Percentage expenditure', 'Hepatitis B(men)',\n",
       "       'Hepatitis B(women)', 'Measles', 'BMI', 'Under-five deaths', 'Polio',\n",
       "       'Total expenditure', 'Diphtheria ', 'HIV/AIDS', 'GDP', 'Population',\n",
       "       'thinness  1-19 years', 'thinness 5-9 years',\n",
       "       'Income composition of resources', 'Schooling'],\n",
       "      dtype='object')"
      ]
     },
     "execution_count": 7,
     "metadata": {},
     "output_type": "execute_result"
    }
   ],
   "source": [
    "df.columns"
   ]
  },
  {
   "cell_type": "markdown",
   "metadata": {},
   "source": [
    "Note que nem todas as colunas tem dados em todas as linhas.\n"
   ]
  },
  {
   "cell_type": "code",
   "execution_count": 8,
   "metadata": {},
   "outputs": [
    {
     "data": {
      "text/plain": [
       "Year                                 0\n",
       "Status                               0\n",
       "Life expectancy (men)                0\n",
       "Life expectancy(women)               0\n",
       "Adult Mortality (men)                0\n",
       "Adult Mortality (women)              0\n",
       "Infant deaths                        0\n",
       "Alcohol                            194\n",
       "Percentage expenditure               0\n",
       "Hepatitis B(men)                     0\n",
       "Hepatitis B(women)                   0\n",
       "Measles                              0\n",
       "BMI                                 34\n",
       "Under-five deaths                    0\n",
       "Polio                               19\n",
       "Total expenditure                  226\n",
       "Diphtheria                          19\n",
       "HIV/AIDS                             0\n",
       "GDP                                448\n",
       "Population                         652\n",
       "thinness  1-19 years                34\n",
       "thinness 5-9 years                  34\n",
       "Income composition of resources    167\n",
       "Schooling                          163\n",
       "dtype: int64"
      ]
     },
     "execution_count": 8,
     "metadata": {},
     "output_type": "execute_result"
    }
   ],
   "source": [
    "df.isna().sum()"
   ]
  },
  {
   "cell_type": "markdown",
   "metadata": {},
   "source": [
    "Vamos preencher os valores nulos com a média da coluna."
   ]
  },
  {
   "cell_type": "code",
   "execution_count": 9,
   "metadata": {},
   "outputs": [],
   "source": [
    "for column in df.columns:\n",
    "    col_mean = df[column].mean()\n",
    "    df[column].fillna(col_mean, inplace=True)"
   ]
  },
  {
   "cell_type": "code",
   "execution_count": 10,
   "metadata": {},
   "outputs": [
    {
     "data": {
      "text/plain": [
       "Year                               0\n",
       "Status                             0\n",
       "Life expectancy (men)              0\n",
       "Life expectancy(women)             0\n",
       "Adult Mortality (men)              0\n",
       "Adult Mortality (women)            0\n",
       "Infant deaths                      0\n",
       "Alcohol                            0\n",
       "Percentage expenditure             0\n",
       "Hepatitis B(men)                   0\n",
       "Hepatitis B(women)                 0\n",
       "Measles                            0\n",
       "BMI                                0\n",
       "Under-five deaths                  0\n",
       "Polio                              0\n",
       "Total expenditure                  0\n",
       "Diphtheria                         0\n",
       "HIV/AIDS                           0\n",
       "GDP                                0\n",
       "Population                         0\n",
       "thinness  1-19 years               0\n",
       "thinness 5-9 years                 0\n",
       "Income composition of resources    0\n",
       "Schooling                          0\n",
       "dtype: int64"
      ]
     },
     "execution_count": 10,
     "metadata": {},
     "output_type": "execute_result"
    }
   ],
   "source": [
    "df.isna().sum()"
   ]
  },
  {
   "cell_type": "markdown",
   "metadata": {},
   "source": [
    "Não há mais valores nulos no dataframe."
   ]
  },
  {
   "cell_type": "code",
   "execution_count": 11,
   "metadata": {},
   "outputs": [
    {
     "data": {
      "text/html": [
       "<div>\n",
       "<style scoped>\n",
       "    .dataframe tbody tr th:only-of-type {\n",
       "        vertical-align: middle;\n",
       "    }\n",
       "\n",
       "    .dataframe tbody tr th {\n",
       "        vertical-align: top;\n",
       "    }\n",
       "\n",
       "    .dataframe thead th {\n",
       "        text-align: right;\n",
       "    }\n",
       "</style>\n",
       "<table border=\"1\" class=\"dataframe\">\n",
       "  <thead>\n",
       "    <tr style=\"text-align: right;\">\n",
       "      <th></th>\n",
       "      <th>Year</th>\n",
       "      <th>Status</th>\n",
       "      <th>Life expectancy (men)</th>\n",
       "      <th>Life expectancy(women)</th>\n",
       "      <th>Adult Mortality (men)</th>\n",
       "      <th>Adult Mortality (women)</th>\n",
       "      <th>Infant deaths</th>\n",
       "      <th>Alcohol</th>\n",
       "      <th>Percentage expenditure</th>\n",
       "      <th>Hepatitis B(men)</th>\n",
       "      <th>...</th>\n",
       "      <th>Polio</th>\n",
       "      <th>Total expenditure</th>\n",
       "      <th>Diphtheria</th>\n",
       "      <th>HIV/AIDS</th>\n",
       "      <th>GDP</th>\n",
       "      <th>Population</th>\n",
       "      <th>thinness  1-19 years</th>\n",
       "      <th>thinness 5-9 years</th>\n",
       "      <th>Income composition of resources</th>\n",
       "      <th>Schooling</th>\n",
       "    </tr>\n",
       "  </thead>\n",
       "  <tbody>\n",
       "    <tr>\n",
       "      <th>count</th>\n",
       "      <td>2938.000000</td>\n",
       "      <td>2938.000000</td>\n",
       "      <td>2938.000000</td>\n",
       "      <td>2938.000000</td>\n",
       "      <td>2938.000000</td>\n",
       "      <td>2938.000000</td>\n",
       "      <td>2938.000000</td>\n",
       "      <td>2938.000000</td>\n",
       "      <td>2938.000000</td>\n",
       "      <td>2938.000000</td>\n",
       "      <td>...</td>\n",
       "      <td>2938.000000</td>\n",
       "      <td>2938.000000</td>\n",
       "      <td>2938.000000</td>\n",
       "      <td>2938.000000</td>\n",
       "      <td>2938.000000</td>\n",
       "      <td>2.938000e+03</td>\n",
       "      <td>2938.000000</td>\n",
       "      <td>2938.000000</td>\n",
       "      <td>2938.000000</td>\n",
       "      <td>2938.000000</td>\n",
       "    </tr>\n",
       "    <tr>\n",
       "      <th>mean</th>\n",
       "      <td>2007.518720</td>\n",
       "      <td>0.174268</td>\n",
       "      <td>67.710007</td>\n",
       "      <td>67.629340</td>\n",
       "      <td>74.732811</td>\n",
       "      <td>74.558203</td>\n",
       "      <td>30.303948</td>\n",
       "      <td>4.602861</td>\n",
       "      <td>738.251295</td>\n",
       "      <td>46.011572</td>\n",
       "      <td>...</td>\n",
       "      <td>82.550188</td>\n",
       "      <td>5.938190</td>\n",
       "      <td>82.324084</td>\n",
       "      <td>1.742103</td>\n",
       "      <td>7483.158469</td>\n",
       "      <td>1.275338e+07</td>\n",
       "      <td>4.839704</td>\n",
       "      <td>4.870317</td>\n",
       "      <td>0.627551</td>\n",
       "      <td>11.992793</td>\n",
       "    </tr>\n",
       "    <tr>\n",
       "      <th>std</th>\n",
       "      <td>4.613841</td>\n",
       "      <td>0.379405</td>\n",
       "      <td>10.346219</td>\n",
       "      <td>10.325241</td>\n",
       "      <td>14.728866</td>\n",
       "      <td>14.682064</td>\n",
       "      <td>117.926501</td>\n",
       "      <td>3.916288</td>\n",
       "      <td>1987.914858</td>\n",
       "      <td>16.558741</td>\n",
       "      <td>...</td>\n",
       "      <td>23.352143</td>\n",
       "      <td>2.400274</td>\n",
       "      <td>23.640073</td>\n",
       "      <td>5.077785</td>\n",
       "      <td>13136.800417</td>\n",
       "      <td>5.381546e+07</td>\n",
       "      <td>4.394535</td>\n",
       "      <td>4.482708</td>\n",
       "      <td>0.204820</td>\n",
       "      <td>3.264381</td>\n",
       "    </tr>\n",
       "    <tr>\n",
       "      <th>min</th>\n",
       "      <td>2000.000000</td>\n",
       "      <td>0.000000</td>\n",
       "      <td>50.000000</td>\n",
       "      <td>50.000000</td>\n",
       "      <td>50.000000</td>\n",
       "      <td>50.000000</td>\n",
       "      <td>0.000000</td>\n",
       "      <td>0.010000</td>\n",
       "      <td>0.000000</td>\n",
       "      <td>18.000000</td>\n",
       "      <td>...</td>\n",
       "      <td>3.000000</td>\n",
       "      <td>0.370000</td>\n",
       "      <td>2.000000</td>\n",
       "      <td>0.100000</td>\n",
       "      <td>1.681350</td>\n",
       "      <td>3.400000e+01</td>\n",
       "      <td>0.100000</td>\n",
       "      <td>0.100000</td>\n",
       "      <td>0.000000</td>\n",
       "      <td>0.000000</td>\n",
       "    </tr>\n",
       "    <tr>\n",
       "      <th>25%</th>\n",
       "      <td>2004.000000</td>\n",
       "      <td>0.000000</td>\n",
       "      <td>59.000000</td>\n",
       "      <td>59.000000</td>\n",
       "      <td>62.000000</td>\n",
       "      <td>62.000000</td>\n",
       "      <td>0.000000</td>\n",
       "      <td>1.092500</td>\n",
       "      <td>4.685343</td>\n",
       "      <td>31.000000</td>\n",
       "      <td>...</td>\n",
       "      <td>78.000000</td>\n",
       "      <td>4.370000</td>\n",
       "      <td>78.000000</td>\n",
       "      <td>0.100000</td>\n",
       "      <td>580.486996</td>\n",
       "      <td>4.189172e+05</td>\n",
       "      <td>1.600000</td>\n",
       "      <td>1.600000</td>\n",
       "      <td>0.504250</td>\n",
       "      <td>10.300000</td>\n",
       "    </tr>\n",
       "    <tr>\n",
       "      <th>50%</th>\n",
       "      <td>2008.000000</td>\n",
       "      <td>0.000000</td>\n",
       "      <td>68.000000</td>\n",
       "      <td>67.500000</td>\n",
       "      <td>74.500000</td>\n",
       "      <td>74.000000</td>\n",
       "      <td>3.000000</td>\n",
       "      <td>4.160000</td>\n",
       "      <td>64.912906</td>\n",
       "      <td>46.000000</td>\n",
       "      <td>...</td>\n",
       "      <td>93.000000</td>\n",
       "      <td>5.938190</td>\n",
       "      <td>93.000000</td>\n",
       "      <td>0.100000</td>\n",
       "      <td>3116.561755</td>\n",
       "      <td>3.675929e+06</td>\n",
       "      <td>3.400000</td>\n",
       "      <td>3.400000</td>\n",
       "      <td>0.662000</td>\n",
       "      <td>12.100000</td>\n",
       "    </tr>\n",
       "    <tr>\n",
       "      <th>75%</th>\n",
       "      <td>2012.000000</td>\n",
       "      <td>0.000000</td>\n",
       "      <td>77.000000</td>\n",
       "      <td>76.000000</td>\n",
       "      <td>87.000000</td>\n",
       "      <td>87.000000</td>\n",
       "      <td>22.000000</td>\n",
       "      <td>7.390000</td>\n",
       "      <td>441.534144</td>\n",
       "      <td>60.000000</td>\n",
       "      <td>...</td>\n",
       "      <td>97.000000</td>\n",
       "      <td>7.330000</td>\n",
       "      <td>97.000000</td>\n",
       "      <td>0.800000</td>\n",
       "      <td>7483.158469</td>\n",
       "      <td>1.275338e+07</td>\n",
       "      <td>7.100000</td>\n",
       "      <td>7.200000</td>\n",
       "      <td>0.772000</td>\n",
       "      <td>14.100000</td>\n",
       "    </tr>\n",
       "    <tr>\n",
       "      <th>max</th>\n",
       "      <td>2015.000000</td>\n",
       "      <td>1.000000</td>\n",
       "      <td>85.000000</td>\n",
       "      <td>85.000000</td>\n",
       "      <td>100.000000</td>\n",
       "      <td>100.000000</td>\n",
       "      <td>1800.000000</td>\n",
       "      <td>17.870000</td>\n",
       "      <td>19479.911610</td>\n",
       "      <td>75.000000</td>\n",
       "      <td>...</td>\n",
       "      <td>99.000000</td>\n",
       "      <td>17.600000</td>\n",
       "      <td>99.000000</td>\n",
       "      <td>50.600000</td>\n",
       "      <td>119172.741800</td>\n",
       "      <td>1.293859e+09</td>\n",
       "      <td>27.700000</td>\n",
       "      <td>28.600000</td>\n",
       "      <td>0.948000</td>\n",
       "      <td>20.700000</td>\n",
       "    </tr>\n",
       "  </tbody>\n",
       "</table>\n",
       "<p>8 rows × 24 columns</p>\n",
       "</div>"
      ],
      "text/plain": [
       "              Year       Status  Life expectancy (men)  \\\n",
       "count  2938.000000  2938.000000            2938.000000   \n",
       "mean   2007.518720     0.174268              67.710007   \n",
       "std       4.613841     0.379405              10.346219   \n",
       "min    2000.000000     0.000000              50.000000   \n",
       "25%    2004.000000     0.000000              59.000000   \n",
       "50%    2008.000000     0.000000              68.000000   \n",
       "75%    2012.000000     0.000000              77.000000   \n",
       "max    2015.000000     1.000000              85.000000   \n",
       "\n",
       "       Life expectancy(women)  Adult Mortality (men)  Adult Mortality (women)  \\\n",
       "count             2938.000000            2938.000000              2938.000000   \n",
       "mean                67.629340              74.732811                74.558203   \n",
       "std                 10.325241              14.728866                14.682064   \n",
       "min                 50.000000              50.000000                50.000000   \n",
       "25%                 59.000000              62.000000                62.000000   \n",
       "50%                 67.500000              74.500000                74.000000   \n",
       "75%                 76.000000              87.000000                87.000000   \n",
       "max                 85.000000             100.000000               100.000000   \n",
       "\n",
       "       Infant deaths      Alcohol  Percentage expenditure  Hepatitis B(men)  \\\n",
       "count    2938.000000  2938.000000             2938.000000       2938.000000   \n",
       "mean       30.303948     4.602861              738.251295         46.011572   \n",
       "std       117.926501     3.916288             1987.914858         16.558741   \n",
       "min         0.000000     0.010000                0.000000         18.000000   \n",
       "25%         0.000000     1.092500                4.685343         31.000000   \n",
       "50%         3.000000     4.160000               64.912906         46.000000   \n",
       "75%        22.000000     7.390000              441.534144         60.000000   \n",
       "max      1800.000000    17.870000            19479.911610         75.000000   \n",
       "\n",
       "       ...        Polio  Total expenditure  Diphtheria      HIV/AIDS  \\\n",
       "count  ...  2938.000000        2938.000000  2938.000000  2938.000000   \n",
       "mean   ...    82.550188           5.938190    82.324084     1.742103   \n",
       "std    ...    23.352143           2.400274    23.640073     5.077785   \n",
       "min    ...     3.000000           0.370000     2.000000     0.100000   \n",
       "25%    ...    78.000000           4.370000    78.000000     0.100000   \n",
       "50%    ...    93.000000           5.938190    93.000000     0.100000   \n",
       "75%    ...    97.000000           7.330000    97.000000     0.800000   \n",
       "max    ...    99.000000          17.600000    99.000000    50.600000   \n",
       "\n",
       "                 GDP    Population  thinness  1-19 years  thinness 5-9 years  \\\n",
       "count    2938.000000  2.938000e+03           2938.000000         2938.000000   \n",
       "mean     7483.158469  1.275338e+07              4.839704            4.870317   \n",
       "std     13136.800417  5.381546e+07              4.394535            4.482708   \n",
       "min         1.681350  3.400000e+01              0.100000            0.100000   \n",
       "25%       580.486996  4.189172e+05              1.600000            1.600000   \n",
       "50%      3116.561755  3.675929e+06              3.400000            3.400000   \n",
       "75%      7483.158469  1.275338e+07              7.100000            7.200000   \n",
       "max    119172.741800  1.293859e+09             27.700000           28.600000   \n",
       "\n",
       "       Income composition of resources    Schooling  \n",
       "count                      2938.000000  2938.000000  \n",
       "mean                          0.627551    11.992793  \n",
       "std                           0.204820     3.264381  \n",
       "min                           0.000000     0.000000  \n",
       "25%                           0.504250    10.300000  \n",
       "50%                           0.662000    12.100000  \n",
       "75%                           0.772000    14.100000  \n",
       "max                           0.948000    20.700000  \n",
       "\n",
       "[8 rows x 24 columns]"
      ]
     },
     "execution_count": 11,
     "metadata": {},
     "output_type": "execute_result"
    }
   ],
   "source": [
    "df.describe()"
   ]
  },
  {
   "attachments": {},
   "cell_type": "markdown",
   "metadata": {},
   "source": [
    "Vamos olhar para as correlações."
   ]
  },
  {
   "cell_type": "code",
   "execution_count": 12,
   "metadata": {},
   "outputs": [
    {
     "data": {
      "text/plain": [
       "<Axes: >"
      ]
     },
     "execution_count": 12,
     "metadata": {},
     "output_type": "execute_result"
    },
    {
     "data": {
      "image/png": "[encoded data removed]",
      "text/plain": [
       "<Figure size 640x480 with 2 Axes>"
      ]
     },
     "metadata": {},
     "output_type": "display_data"
    }
   ],
   "source": [
    "import seaborn as sns\n",
    "sns.heatmap(df.corr())"
   ]
  },
  {
   "attachments": {},
   "cell_type": "markdown",
   "metadata": {},
   "source": [
    "As maiores correlações com `infant death` são `Under-five deaths` (que é basicamente o mesmo dado),`Meases` (sarampo, que atinge principalmente crianças), `Population`, `thinness  1-19 years` e `thinness 5-9 years`."
   ]
  },
  {
   "attachments": {},
   "cell_type": "markdown",
   "metadata": {},
   "source": [
    "# 4. Dividir os dados em treino e teste\n",
    "\n",
    "O objetivo é criar uma base desconhecida para o modelo durante o treinamento de maneira a ter uma referência de como o modelo performa em dados que ele nunca viu. O treinamento de um modelo de machine learning o ensina a fazer inferências sobre a população (previsões) a partir de uma amostra (dados de treino). Para garantir que o modelo aprendeu o comportamento geral do fenômeno (tem baixo underfitting) e aprendeu pouco ruído (baixo overfitting), testamos a performance nos dados de teste como uma inferência da população (a partir da amostra dos dados de teste) não enviesada pelo treinamento.\n",
    "\n",
    "Vamos retirar também a coluna 'Under-five deaths' pois é basicamente o target que estamos tentando prever."
   ]
  },
  {
   "cell_type": "code",
   "execution_count": 13,
   "metadata": {},
   "outputs": [],
   "source": [
    "target_col = 'Infant deaths' \n",
    "# dados de treino (sem target) \n",
    "train_df = df.drop(columns=[target_col, 'Under-five deaths'])\n",
    "# dados só do que desejamos prever\n",
    "target = df[target_col]"
   ]
  },
  {
   "cell_type": "code",
   "execution_count": 24,
   "metadata": {},
   "outputs": [],
   "source": [
    "# !pip install scikit-learn\n",
    "\n",
    "from sklearn.model_selection import train_test_split\n",
    "\n",
    "x_train, x_test,y_train, y_test = train_test_split(train_df, target, test_size=0.3, random_state=42)\n"
   ]
  },
  {
   "cell_type": "code",
   "execution_count": 25,
   "metadata": {},
   "outputs": [
    {
     "name": "stdout",
     "output_type": "stream",
     "text": [
      "Tamanho do dataset x_train:  (2056, 22)\n",
      "Tamanho do dataset y_train:  (2056,)\n",
      "Tamanho do dataset x_test:  (882, 22)\n",
      "Tamanho do dataset y_test:  (882,)\n"
     ]
    }
   ],
   "source": [
    "print(\"Tamanho do dataset x_train: \", x_train.shape)\n",
    "print(\"Tamanho do dataset y_train: \", y_train.shape)\n",
    "print(\"Tamanho do dataset x_test: \", x_test.shape)\n",
    "print(\"Tamanho do dataset y_test: \", y_test.shape)"
   ]
  },
  {
   "attachments": {},
   "cell_type": "markdown",
   "metadata": {},
   "source": [
    "# 5. Treinar modelo"
   ]
  },
  {
   "cell_type": "code",
   "execution_count": 26,
   "metadata": {},
   "outputs": [
    {
     "data": {
      "text/html": [
       "<style>#sk-container-id-2 {color: black;}#sk-container-id-2 pre{padding: 0;}#sk-container-id-2 div.sk-toggleable {background-color: white;}#sk-container-id-2 label.sk-toggleable__label {cursor: pointer;display: block;width: 100%;margin-bottom: 0;padding: 0.3em;box-sizing: border-box;text-align: center;}#sk-container-id-2 label.sk-toggleable__label-arrow:before {content: \"▸\";float: left;margin-right: 0.25em;color: #696969;}#sk-container-id-2 label.sk-toggleable__label-arrow:hover:before {color: black;}#sk-container-id-2 div.sk-estimator:hover label.sk-toggleable__label-arrow:before {color: black;}#sk-container-id-2 div.sk-toggleable__content {max-height: 0;max-width: 0;overflow: hidden;text-align: left;background-color: #f0f8ff;}#sk-container-id-2 div.sk-toggleable__content pre {margin: 0.2em;color: black;border-radius: 0.25em;background-color: #f0f8ff;}#sk-container-id-2 input.sk-toggleable__control:checked~div.sk-toggleable__content {max-height: 200px;max-width: 100%;overflow: auto;}#sk-container-id-2 input.sk-toggleable__control:checked~label.sk-toggleable__label-arrow:before {content: \"▾\";}#sk-container-id-2 div.sk-estimator input.sk-toggleable__control:checked~label.sk-toggleable__label {background-color: #d4ebff;}#sk-container-id-2 div.sk-label input.sk-toggleable__control:checked~label.sk-toggleable__label {background-color: #d4ebff;}#sk-container-id-2 input.sk-hidden--visually {border: 0;clip: rect(1px 1px 1px 1px);clip: rect(1px, 1px, 1px, 1px);height: 1px;margin: -1px;overflow: hidden;padding: 0;position: absolute;width: 1px;}#sk-container-id-2 div.sk-estimator {font-family: monospace;background-color: #f0f8ff;border: 1px dotted black;border-radius: 0.25em;box-sizing: border-box;margin-bottom: 0.5em;}#sk-container-id-2 div.sk-estimator:hover {background-color: #d4ebff;}#sk-container-id-2 div.sk-parallel-item::after {content: \"\";width: 100%;border-bottom: 1px solid gray;flex-grow: 1;}#sk-container-id-2 div.sk-label:hover label.sk-toggleable__label {background-color: #d4ebff;}#sk-container-id-2 div.sk-serial::before {content: \"\";position: absolute;border-left: 1px solid gray;box-sizing: border-box;top: 0;bottom: 0;left: 50%;z-index: 0;}#sk-container-id-2 div.sk-serial {display: flex;flex-direction: column;align-items: center;background-color: white;padding-right: 0.2em;padding-left: 0.2em;position: relative;}#sk-container-id-2 div.sk-item {position: relative;z-index: 1;}#sk-container-id-2 div.sk-parallel {display: flex;align-items: stretch;justify-content: center;background-color: white;position: relative;}#sk-container-id-2 div.sk-item::before, #sk-container-id-2 div.sk-parallel-item::before {content: \"\";position: absolute;border-left: 1px solid gray;box-sizing: border-box;top: 0;bottom: 0;left: 50%;z-index: -1;}#sk-container-id-2 div.sk-parallel-item {display: flex;flex-direction: column;z-index: 1;position: relative;background-color: white;}#sk-container-id-2 div.sk-parallel-item:first-child::after {align-self: flex-end;width: 50%;}#sk-container-id-2 div.sk-parallel-item:last-child::after {align-self: flex-start;width: 50%;}#sk-container-id-2 div.sk-parallel-item:only-child::after {width: 0;}#sk-container-id-2 div.sk-dashed-wrapped {border: 1px dashed gray;margin: 0 0.4em 0.5em 0.4em;box-sizing: border-box;padding-bottom: 0.4em;background-color: white;}#sk-container-id-2 div.sk-label label {font-family: monospace;font-weight: bold;display: inline-block;line-height: 1.2em;}#sk-container-id-2 div.sk-label-container {text-align: center;}#sk-container-id-2 div.sk-container {/* jupyter's `normalize.less` sets `[hidden] { display: none; }` but bootstrap.min.css set `[hidden] { display: none !important; }` so we also need the `!important` here to be able to override the default hidden behavior on the sphinx rendered scikit-learn.org. See: https://github.com/scikit-learn/scikit-learn/issues/21755 */display: inline-block !important;position: relative;}#sk-container-id-2 div.sk-text-repr-fallback {display: none;}</style><div id=\"sk-container-id-2\" class=\"sk-top-container\"><div class=\"sk-text-repr-fallback\"><pre>LinearRegression()</pre><b>In a Jupyter environment, please rerun this cell to show the HTML representation or trust the notebook. <br />On GitHub, the HTML representation is unable to render, please try loading this page with nbviewer.org.</b></div><div class=\"sk-container\" hidden><div class=\"sk-item\"><div class=\"sk-estimator sk-toggleable\"><input class=\"sk-toggleable__control sk-hidden--visually\" id=\"sk-estimator-id-2\" type=\"checkbox\" checked><label for=\"sk-estimator-id-2\" class=\"sk-toggleable__label sk-toggleable__label-arrow\">LinearRegression</label><div class=\"sk-toggleable__content\"><pre>LinearRegression()</pre></div></div></div></div></div>"
      ],
      "text/plain": [
       "LinearRegression()"
      ]
     },
     "execution_count": 26,
     "metadata": {},
     "output_type": "execute_result"
    }
   ],
   "source": [
    "from sklearn.linear_model import LinearRegression\n",
    "\n",
    "#instanciando um modelo de regressão linear\n",
    "modelo = LinearRegression()\n",
    "\n",
    "# treinar o modelo\n",
    "modelo.fit(x_train,y_train)\n"
   ]
  },
  {
   "attachments": {},
   "cell_type": "markdown",
   "metadata": {},
   "source": [
    "# 6. Fazer previsões\n"
   ]
  },
  {
   "cell_type": "code",
   "execution_count": 27,
   "metadata": {},
   "outputs": [],
   "source": [
    "y_pred = modelo.predict(x_test)\n",
    "y_train_pred = modelo.predict(x_train)"
   ]
  },
  {
   "attachments": {},
   "cell_type": "markdown",
   "metadata": {},
   "source": [
    "# 7. Avaliar a performance\n"
   ]
  },
  {
   "cell_type": "code",
   "execution_count": 28,
   "metadata": {},
   "outputs": [
    {
     "name": "stdout",
     "output_type": "stream",
     "text": [
      "erro médio absoluto:  35.80646311006339\n",
      "erro médio quadrado:  6701.435964567304\n",
      "raiz do erro médio quadrado:  81.86229879845364\n"
     ]
    }
   ],
   "source": [
    "from sklearn.metrics import mean_absolute_error,mean_squared_error\n",
    "\n",
    "\n",
    "print(\"erro médio absoluto: \", mean_absolute_error(y_test, y_pred))\n",
    "print(\"erro médio quadrado: \", mean_squared_error(y_test, y_pred))\n",
    "print(\"raiz do erro médio quadrado: \", mean_squared_error(y_test, y_pred, squared=False))\n"
   ]
  },
  {
   "attachments": {},
   "cell_type": "markdown",
   "metadata": {},
   "source": [
    "A regressão linear fez previsões com métricas de performance acima nos dados de teste. Para saber o quão bom é essa previsão, vamos calcular uma baseline, isto é, um valor de referência. Usaremos como valor de referência qual seria o erro médio absluto de usar a média dos dados de treino como previsão para todos os dados de teste. "
   ]
  },
  {
   "cell_type": "code",
   "execution_count": 29,
   "metadata": {},
   "outputs": [
    {
     "name": "stdout",
     "output_type": "stream",
     "text": [
      "erro médio absoluto:  42.996695695139266\n",
      "erro médio quadrado:  17430.337293384175\n",
      "raiz do erro médio quadrado:  132.02400271687029\n"
     ]
    }
   ],
   "source": [
    "print(\"erro médio absoluto: \", mean_absolute_error(y_test, [y_train.mean() for x in range(len(y_test))]))\n",
    "print(\"erro médio quadrado: \", mean_squared_error(y_test, [y_train.mean() for x in range(len(y_test))]))\n",
    "print(\"raiz do erro médio quadrado: \", mean_squared_error(y_test, [y_train.mean() for x in range(len(y_test))],squared=False))\n"
   ]
  },
  {
   "attachments": {},
   "cell_type": "markdown",
   "metadata": {},
   "source": [
    "O modelo criado é significativamente melhor que usar a média dos dados de treino."
   ]
  },
  {
   "attachments": {},
   "cell_type": "markdown",
   "metadata": {},
   "source": [
    "# Testando outros algoritmos"
   ]
  },
  {
   "cell_type": "code",
   "execution_count": 33,
   "metadata": {},
   "outputs": [
    {
     "name": "stdout",
     "output_type": "stream",
     "text": [
      "\n",
      "Model: Linear Regression\n",
      "Erro médio absoluto:  35.80646311006339\n",
      "Erro quadrado médio:  6701.435964567304\n",
      "Raiz do erro quadrado médio:  81.86229879845364\n",
      "\n",
      "Model: K-Neighbors Regression\n",
      "Erro médio absoluto:  32.178231292517005\n",
      "Erro quadrado médio:  9300.072108843537\n",
      "Raiz do erro quadrado médio:  96.4368814761424\n",
      "\n",
      "Model: Decision Tree Regression\n",
      "Erro médio absoluto:  14.319727891156463\n",
      "Erro quadrado médio:  2269.233560090703\n",
      "Raiz do erro quadrado médio:  47.636473002214416\n",
      "\n",
      "Model: Random Forest Regression\n",
      "Erro médio absoluto:  13.030907029478458\n",
      "Erro quadrado médio:  1102.4772217687073\n",
      "Raiz do erro quadrado médio:  33.20357242479651\n",
      "\n",
      "Model: Extra Trees Regression\n",
      "Erro médio absoluto:  10.626269841269842\n",
      "Erro quadrado médio:  727.2188304988662\n",
      "Raiz do erro quadrado médio:  26.96699520708353\n",
      "\n",
      "Model: GaussianProcessRegressor\n",
      "Erro médio absoluto:  34.06689342403628\n",
      "Erro quadrado médio:  18561.97619047619\n",
      "Raiz do erro quadrado médio:  136.24234360314048\n"
     ]
    }
   ],
   "source": [
    "from sklearn.linear_model import LinearRegression\n",
    "from sklearn.neighbors import KNeighborsRegressor\n",
    "from sklearn.tree import DecisionTreeRegressor\n",
    "from sklearn.ensemble import RandomForestRegressor\n",
    "from sklearn.ensemble import ExtraTreesRegressor\n",
    "from sklearn.gaussian_process import GaussianProcessRegressor\n",
    "\n",
    "\n",
    "# Lista com os nomes dos modelos\n",
    "model_names = [\n",
    "    'Linear Regression', 'K-Neighbors Regression', 'Decision Tree Regression',\n",
    "    'Random Forest Regression','Extra Trees Regression','GaussianProcessRegressor'\n",
    "]\n",
    "\n",
    "# Lista com as instâncias dos modelos\n",
    "models = [\n",
    "    LinearRegression(), KNeighborsRegressor(), DecisionTreeRegressor(),\n",
    "    RandomForestRegressor(), ExtraTreesRegressor(), GaussianProcessRegressor()\n",
    "]\n",
    "\n",
    "# Treina, faz previsões e gera métricas para todos os modelos\n",
    "for name, model in zip(model_names, models):\n",
    "    print(f\"\\nModel: {name}\")\n",
    "    model.fit(x_train, y_train)\n",
    "    y_pred = model.predict(x_test)\n",
    "    print(\"Erro médio absoluto: \", mean_absolute_error(y_test, y_pred))\n",
    "    print(\"Erro quadrado médio: \", mean_squared_error(y_test, y_pred))\n",
    "    print(\"Raiz do erro quadrado médio: \", mean_squared_error(y_test, y_pred,squared=False))"
   ]
  },
  {
   "attachments": {},
   "cell_type": "markdown",
   "metadata": {},
   "source": [
    "O modelo com a melhor performance foi Extra Trees."
   ]
  },
  {
   "attachments": {},
   "cell_type": "markdown",
   "metadata": {},
   "source": [
    "# Selecionando variáveis"
   ]
  },
  {
   "attachments": {},
   "cell_type": "markdown",
   "metadata": {},
   "source": [
    "Uma possível maneira de melhorar a performance do modelo é selecionar colunas com maior poder preditivo. Para isso, olharemos para feature importance do modelo de árvore que treinamos (ExtraTrees). A partir disso, pegaremos as 10 melhores e treinaremos um modelo só com essas 10."
   ]
  },
  {
   "cell_type": "code",
   "execution_count": 31,
   "metadata": {},
   "outputs": [
    {
     "name": "stdout",
     "output_type": "stream",
     "text": [
      "Erro médio absoluto:  10.985487528344672\n",
      "Erro quadrado médio:  742.6158072562358\n",
      "Raiz do erro quadrado médio:  27.250978097239663\n",
      "                            Feature  Importance\n",
      "18             thinness  1-19 years    0.330824\n",
      "19               thinness 5-9 years    0.306661\n",
      "10                          Measles    0.115867\n",
      "17                       Population    0.066157\n",
      "6                           Alcohol    0.029303\n",
      "15                         HIV/AIDS    0.024173\n",
      "11                              BMI    0.019937\n",
      "21                        Schooling    0.018695\n",
      "12                            Polio    0.014583\n",
      "13                Total expenditure    0.013848\n",
      "20  Income composition of resources    0.013628\n",
      "14                      Diphtheria     0.012104\n",
      "0                              Year    0.008177\n",
      "16                              GDP    0.006499\n",
      "7            Percentage expenditure    0.005050\n",
      "2             Life expectancy (men)    0.003042\n",
      "9                Hepatitis B(women)    0.002676\n",
      "8                  Hepatitis B(men)    0.002259\n",
      "3            Life expectancy(women)    0.002143\n",
      "5           Adult Mortality (women)    0.002142\n",
      "4             Adult Mortality (men)    0.001905\n",
      "1                            Status    0.000325\n"
     ]
    }
   ],
   "source": [
    "et_model = ExtraTreesRegressor()\n",
    "et_model.fit(x_train, y_train)\n",
    "y_pred = et_model.predict(x_test)\n",
    "print(\"Erro médio absoluto: \", mean_absolute_error(y_test, y_pred))\n",
    "print(\"Erro quadrado médio: \", mean_squared_error(y_test, y_pred))\n",
    "print(\"Raiz do erro quadrado médio: \", mean_squared_error(y_test, y_pred,squared=False))\n",
    "\n",
    "feature_importance = et_model.feature_importances_\n",
    "\n",
    "# Criar um DataFrame com as importâncias das features\n",
    "importance_df = pd.DataFrame({'Feature': x_train.columns, 'Importance': feature_importance})\n",
    "\n",
    "# Ordenar o DataFrame em ordem decrescente de importância\n",
    "importance_df = importance_df.sort_values(by='Importance', ascending=False)\n",
    "\n",
    "print(importance_df)\n"
   ]
  },
  {
   "cell_type": "code",
   "execution_count": 36,
   "metadata": {},
   "outputs": [
    {
     "name": "stdout",
     "output_type": "stream",
     "text": [
      "Erro médio absoluto:  9.662312925170069\n",
      "Erro quadrado médio:  693.4766630385487\n",
      "Raiz do erro quadrado médio:  26.333945071685495\n"
     ]
    }
   ],
   "source": [
    "selected_cols = importance_df.iloc[:10].Feature\n",
    "\n",
    "et_model = ExtraTreesRegressor()\n",
    "et_model.fit(x_train[selected_cols], y_train)\n",
    "y_pred = et_model.predict(x_test[selected_cols])\n",
    "print(\"Erro médio absoluto: \", mean_absolute_error(y_test, y_pred))\n",
    "print(\"Erro quadrado médio: \", mean_squared_error(y_test, y_pred))\n",
    "print(\"Raiz do erro quadrado médio: \", mean_squared_error(y_test, y_pred,squared=False))"
   ]
  },
  {
   "attachments": {},
   "cell_type": "markdown",
   "metadata": {},
   "source": [
    "Treinar o modelo com apenas as 10 melhores features diminui as métricas de erro, criando um modelo melhor."
   ]
  },
  {
   "attachments": {},
   "cell_type": "markdown",
   "metadata": {},
   "source": [
    "# Próximos passos\n",
    "\n",
    "Para melhorar a performance do modelo, pode-se tomar as seguintes ações:\n",
    " - Normalizar os dados: principalmente para modelos lineares, como a regressão linear, normalizar os dados pode melhorar a performance, principalmente quando se tem features de muitas ordens de grandeza de diferença.\n",
    " - Aplicar transformações nos dados para aproximar a distribuição das features de uma distribuição normal. Esse processamento é mais efetivo para modelos lineares também.\n",
    " - Otimizar hyperparametros"
   ]
  }
 ],
 "metadata": {
  "kernelspec": {
   "display_name": "Python 3",
   "language": "python",
   "name": "python3"
  },
  "language_info": {
   "codemirror_mode": {
    "name": "ipython",
    "version": 3
   },
   "file_extension": ".py",
   "mimetype": "text/x-python",
   "name": "python",
   "nbconvert_exporter": "python",
   "pygments_lexer": "ipython3",
   "version": "3.10.6"
  },
  "orig_nbformat": 4
 },
 "nbformat": 4,
 "nbformat_minor": 2
}
